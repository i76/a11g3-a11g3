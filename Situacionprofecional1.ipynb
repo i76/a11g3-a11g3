{
  "nbformat": 4,
  "nbformat_minor": 0,
  "metadata": {
    "colab": {
      "name": "Copia de Untitled0.ipynb",
      "provenance": [],
      "include_colab_link": true
    },
    "kernelspec": {
      "name": "python3",
      "display_name": "Python 3"
    },
    "language_info": {
      "name": "python"
    }
  },
  "cells": [
    {
      "cell_type": "markdown",
      "metadata": {
        "id": "view-in-github",
        "colab_type": "text"
      },
      "source": [
        "<a href=\"https://colab.research.google.com/github/i76/a11g3-a11g3/blob/main/Situacionprofecional1.ipynb\" target=\"_parent\"><img src=\"https://colab.research.google.com/assets/colab-badge.svg\" alt=\"Open In Colab\"/></a>"
      ]
    },
    {
      "cell_type": "code",
      "execution_count": null,
      "metadata": {
        "id": "Sm2uB00sTGOo",
        "outputId": "c93938dd-9ac2-4c81-c380-8b9379d08d6a",
        "colab": {
          "base_uri": "https://localhost:8080/"
        }
      },
      "outputs": [
        {
          "output_type": "stream",
          "name": "stdout",
          "text": [
            "¡Bienvenidos!\n"
          ]
        }
      ],
      "source": [
        "def presentacion() :\n",
        "  print (\"¡Bienvenidos! Somos el grupo 3 del aula 11\")\n",
        "\n",
        "def \n",
        "\n",
        "\n",
        "\n",
        "presentacion()\n",
        "\n",
        "     \n"
      ]
    }
  ]
}