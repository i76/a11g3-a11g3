{
  "nbformat": 4,
  "nbformat_minor": 0,
  "metadata": {
    "colab": {
      "name": "Copia de Untitled0.ipynb",
      "provenance": [],
      "collapsed_sections": [],
      "include_colab_link": true
    },
    "kernelspec": {
      "name": "python3",
      "display_name": "Python 3"
    },
    "language_info": {
      "name": "python"
    }
  },
  "cells": [
    {
      "cell_type": "markdown",
      "metadata": {
        "id": "view-in-github",
        "colab_type": "text"
      },
      "source": [
        "<a href=\"https://colab.research.google.com/github/i76/a11g3-a11g3/blob/main/Situaci%C3%B3nprofecional1.ipynb\" target=\"_parent\"><img src=\"https://colab.research.google.com/assets/colab-badge.svg\" alt=\"Open In Colab\"/></a>"
      ]
    },
    {
      "cell_type": "code",
      "execution_count": null,
      "metadata": {
        "id": "Sm2uB00sTGOo",
        "outputId": "5d4900dd-edd4-4b7a-c430-9f037a78fa45",
        "colab": {
          "base_uri": "https://localhost:8080/"
        }
      },
      "outputs": [
        {
          "output_type": "stream",
          "name": "stdout",
          "text": [
            "5.0\n",
            "6\n"
          ]
        }
      ],
      "source": [
        "'''Punto 1'''\n",
        "def presentacion() :\n",
        "  print (\"¡Bienvenidos! Somos el grupo 3 del aula 11\")\n",
        "  \n",
        "'''Punto 2'''\n",
        "def ing2i(a: int, b: int):\n",
        "  print(a)\n",
        "  print(b)\n",
        "\n",
        "'''Punto 3'''\n",
        "def ing2s(a: str, b: str):\n",
        "  print(a)\n",
        "  print(b)\n",
        "\n",
        "'''Punto 4'''\n",
        "def suma(a: int, b: int):\n",
        "  SUM = a + b\n",
        "  return SUM\n",
        "\n",
        "'''Punto 5'''\n",
        "def resta(a: int, b: int):\n",
        "  RES = a - b\n",
        "  return RES\n",
        "\n",
        "'''Punto 6'''\n",
        "def producto(a: int, b: int):\n",
        "  PROD = a * b\n",
        "  return PROD\n",
        "\n",
        "'''Punto 7'''\n",
        "def cociente(a: int, b: int):\n",
        "  CO = a / b\n",
        "  return CO\n",
        "\n",
        "'''Punto 8'''\n",
        "def modulo(a: int, b: int):\n",
        "  MOD = a % b\n",
        "  return MOD\n",
        "\n",
        "'''Punto 9'''\n",
        "def potencia(a: int, b: int):\n",
        "  POT = a ** b\n",
        "  return POT\n",
        "\n",
        "# Punto 10 #\n",
        "def radicacion(a: int, b: int):\n",
        "  RAD = a ** (1/b)  \n",
        "  return RAD\n",
        "print(radicacion(25, 2))\n",
        "\n",
        "#Punto 11#\n",
        "def p1(a: int, b: int, c: int):\n",
        "  RP1 = producto(a,b)\n",
        "  RP1 = suma(RP1,c)\n",
        "  return RP1\n",
        "\n",
        "#Punto 12#\n",
        "def p1(a: int, b: int, c: int):\n",
        "  RP1 = suma(a, b)\n",
        "  RP1 = producto(RP1,c)\n",
        "  return RP1\n",
        "\n",
        "\n",
        "#Punto 13#\n",
        "def p1(a: int, b: int, c: int):\n",
        "  RP1 = resta(a,b)\n",
        "  RP1 = producto(RP1,c)\n",
        "  return RP1\n",
        "\n"
      ]
    },
    {
      "cell_type": "code",
      "source": [
        ""
      ],
      "metadata": {
        "id": "3e6EU201Zkgp"
      },
      "execution_count": null,
      "outputs": []
    }
  ]
}